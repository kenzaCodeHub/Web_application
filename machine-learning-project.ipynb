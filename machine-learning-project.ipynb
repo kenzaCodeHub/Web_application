{
 "cells": [
  {
   "cell_type": "code",
   "execution_count": 1,
   "id": "6c3d94b8",
   "metadata": {
    "_cell_guid": "b1076dfc-b9ad-4769-8c92-a6c4dae69d19",
    "_uuid": "8f2839f25d086af736a60e9eeb907d3b93b6e0e5",
    "execution": {
     "iopub.execute_input": "2024-06-07T21:35:15.914253Z",
     "iopub.status.busy": "2024-06-07T21:35:15.913922Z",
     "iopub.status.idle": "2024-06-07T21:35:18.259330Z",
     "shell.execute_reply": "2024-06-07T21:35:18.258546Z"
    },
    "papermill": {
     "duration": 2.353296,
     "end_time": "2024-06-07T21:35:18.261613",
     "exception": false,
     "start_time": "2024-06-07T21:35:15.908317",
     "status": "completed"
    },
    "tags": []
   },
   "outputs": [],
   "source": [
    "import pandas as pd\n",
    "import pandas as pd\n",
    "from sklearn.model_selection import train_test_split, GridSearchCV\n",
    "from sklearn.svm import SVC\n",
    "from sklearn.pipeline import Pipeline\n",
    "from sklearn.compose import ColumnTransformer\n",
    "from sklearn.impute import SimpleImputer\n",
    "from sklearn.preprocessing import StandardScaler, OneHotEncoder\n",
    "from sklearn.metrics import accuracy_score\n",
    "import joblib\n",
    "from sklearn.model_selection import train_test_split\n",
    "import numpy as np"
   ]
  },
  {
   "cell_type": "code",
   "execution_count": 2,
   "id": "577d1dbe",
   "metadata": {
    "execution": {
     "iopub.execute_input": "2024-06-07T21:35:18.270384Z",
     "iopub.status.busy": "2024-06-07T21:35:18.269998Z",
     "iopub.status.idle": "2024-06-07T21:35:18.598656Z",
     "shell.execute_reply": "2024-06-07T21:35:18.597739Z"
    },
    "papermill": {
     "duration": 0.335446,
     "end_time": "2024-06-07T21:35:18.601017",
     "exception": false,
     "start_time": "2024-06-07T21:35:18.265571",
     "status": "completed"
    },
    "tags": []
   },
   "outputs": [
    {
     "data": {
      "text/html": [
       "<div>\n",
       "<style scoped>\n",
       "    .dataframe tbody tr th:only-of-type {\n",
       "        vertical-align: middle;\n",
       "    }\n",
       "\n",
       "    .dataframe tbody tr th {\n",
       "        vertical-align: top;\n",
       "    }\n",
       "\n",
       "    .dataframe thead th {\n",
       "        text-align: right;\n",
       "    }\n",
       "</style>\n",
       "<table border=\"1\" class=\"dataframe\">\n",
       "  <thead>\n",
       "    <tr style=\"text-align: right;\">\n",
       "      <th></th>\n",
       "      <th>ID</th>\n",
       "      <th>Customer_ID</th>\n",
       "      <th>Month</th>\n",
       "      <th>Name</th>\n",
       "      <th>Age</th>\n",
       "      <th>SSN</th>\n",
       "      <th>Occupation</th>\n",
       "      <th>Annual_Income</th>\n",
       "      <th>Monthly_Inhand_Salary</th>\n",
       "      <th>Num_Bank_Accounts</th>\n",
       "      <th>...</th>\n",
       "      <th>Credit_Score</th>\n",
       "      <th>Count_Auto Loan</th>\n",
       "      <th>Count_Credit-Builder Loan</th>\n",
       "      <th>Count_Personal Loan</th>\n",
       "      <th>Count_Home Equity Loan</th>\n",
       "      <th>Count_Not Specified</th>\n",
       "      <th>Count_Mortgage Loan</th>\n",
       "      <th>Count_Student Loan</th>\n",
       "      <th>Count_Debt Consolidation Loan</th>\n",
       "      <th>Count_Payday Loan</th>\n",
       "    </tr>\n",
       "  </thead>\n",
       "  <tbody>\n",
       "    <tr>\n",
       "      <th>0</th>\n",
       "      <td>0x1608</td>\n",
       "      <td>CUS_0xd40</td>\n",
       "      <td>July</td>\n",
       "      <td>Aaron Maashoh</td>\n",
       "      <td>23.0</td>\n",
       "      <td>821-00-0265</td>\n",
       "      <td>Scientist</td>\n",
       "      <td>19114.12</td>\n",
       "      <td>1824.843333</td>\n",
       "      <td>3.0</td>\n",
       "      <td>...</td>\n",
       "      <td>Good</td>\n",
       "      <td>1.0</td>\n",
       "      <td>1.0</td>\n",
       "      <td>1.0</td>\n",
       "      <td>1.0</td>\n",
       "      <td>0.0</td>\n",
       "      <td>0</td>\n",
       "      <td>0</td>\n",
       "      <td>0</td>\n",
       "      <td>0</td>\n",
       "    </tr>\n",
       "    <tr>\n",
       "      <th>1</th>\n",
       "      <td>0x160f</td>\n",
       "      <td>CUS_0x21b1</td>\n",
       "      <td>February</td>\n",
       "      <td>Rick Rothackerj</td>\n",
       "      <td>28.0</td>\n",
       "      <td>004-07-5839</td>\n",
       "      <td>Teacher</td>\n",
       "      <td>34847.84</td>\n",
       "      <td>3037.986667</td>\n",
       "      <td>2.0</td>\n",
       "      <td>...</td>\n",
       "      <td>Good</td>\n",
       "      <td>0.0</td>\n",
       "      <td>1.0</td>\n",
       "      <td>0.0</td>\n",
       "      <td>0.0</td>\n",
       "      <td>0.0</td>\n",
       "      <td>0</td>\n",
       "      <td>0</td>\n",
       "      <td>0</td>\n",
       "      <td>0</td>\n",
       "    </tr>\n",
       "    <tr>\n",
       "      <th>2</th>\n",
       "      <td>0x1612</td>\n",
       "      <td>CUS_0x21b1</td>\n",
       "      <td>May</td>\n",
       "      <td>Rick Rothackerj</td>\n",
       "      <td>28.0</td>\n",
       "      <td>004-07-5839</td>\n",
       "      <td>Teacher</td>\n",
       "      <td>34847.84</td>\n",
       "      <td>3037.986667</td>\n",
       "      <td>2.0</td>\n",
       "      <td>...</td>\n",
       "      <td>Good</td>\n",
       "      <td>0.0</td>\n",
       "      <td>1.0</td>\n",
       "      <td>0.0</td>\n",
       "      <td>0.0</td>\n",
       "      <td>0.0</td>\n",
       "      <td>0</td>\n",
       "      <td>0</td>\n",
       "      <td>0</td>\n",
       "      <td>0</td>\n",
       "    </tr>\n",
       "    <tr>\n",
       "      <th>3</th>\n",
       "      <td>0x1613</td>\n",
       "      <td>CUS_0x21b1</td>\n",
       "      <td>June</td>\n",
       "      <td>Rick Rothackerj</td>\n",
       "      <td>28.0</td>\n",
       "      <td>004-07-5839</td>\n",
       "      <td>Teacher</td>\n",
       "      <td>34847.84</td>\n",
       "      <td>3037.986667</td>\n",
       "      <td>2.0</td>\n",
       "      <td>...</td>\n",
       "      <td>Good</td>\n",
       "      <td>0.0</td>\n",
       "      <td>1.0</td>\n",
       "      <td>0.0</td>\n",
       "      <td>0.0</td>\n",
       "      <td>0.0</td>\n",
       "      <td>0</td>\n",
       "      <td>0</td>\n",
       "      <td>0</td>\n",
       "      <td>0</td>\n",
       "    </tr>\n",
       "    <tr>\n",
       "      <th>4</th>\n",
       "      <td>0x1615</td>\n",
       "      <td>CUS_0x21b1</td>\n",
       "      <td>August</td>\n",
       "      <td>Rick Rothackerj</td>\n",
       "      <td>28.0</td>\n",
       "      <td>004-07-5839</td>\n",
       "      <td>Teacher</td>\n",
       "      <td>34847.84</td>\n",
       "      <td>3037.986667</td>\n",
       "      <td>2.0</td>\n",
       "      <td>...</td>\n",
       "      <td>Good</td>\n",
       "      <td>0.0</td>\n",
       "      <td>1.0</td>\n",
       "      <td>0.0</td>\n",
       "      <td>0.0</td>\n",
       "      <td>0.0</td>\n",
       "      <td>0</td>\n",
       "      <td>0</td>\n",
       "      <td>0</td>\n",
       "      <td>0</td>\n",
       "    </tr>\n",
       "  </tbody>\n",
       "</table>\n",
       "<p>5 rows × 35 columns</p>\n",
       "</div>"
      ],
      "text/plain": [
       "       ID Customer_ID     Month             Name   Age          SSN  \\\n",
       "0  0x1608   CUS_0xd40      July    Aaron Maashoh  23.0  821-00-0265   \n",
       "1  0x160f  CUS_0x21b1  February  Rick Rothackerj  28.0  004-07-5839   \n",
       "2  0x1612  CUS_0x21b1       May  Rick Rothackerj  28.0  004-07-5839   \n",
       "3  0x1613  CUS_0x21b1      June  Rick Rothackerj  28.0  004-07-5839   \n",
       "4  0x1615  CUS_0x21b1    August  Rick Rothackerj  28.0  004-07-5839   \n",
       "\n",
       "  Occupation  Annual_Income  Monthly_Inhand_Salary  Num_Bank_Accounts  ...  \\\n",
       "0  Scientist       19114.12            1824.843333                3.0  ...   \n",
       "1    Teacher       34847.84            3037.986667                2.0  ...   \n",
       "2    Teacher       34847.84            3037.986667                2.0  ...   \n",
       "3    Teacher       34847.84            3037.986667                2.0  ...   \n",
       "4    Teacher       34847.84            3037.986667                2.0  ...   \n",
       "\n",
       "   Credit_Score  Count_Auto Loan  Count_Credit-Builder Loan  \\\n",
       "0          Good              1.0                        1.0   \n",
       "1          Good              0.0                        1.0   \n",
       "2          Good              0.0                        1.0   \n",
       "3          Good              0.0                        1.0   \n",
       "4          Good              0.0                        1.0   \n",
       "\n",
       "   Count_Personal Loan  Count_Home Equity Loan  Count_Not Specified  \\\n",
       "0                  1.0                     1.0                  0.0   \n",
       "1                  0.0                     0.0                  0.0   \n",
       "2                  0.0                     0.0                  0.0   \n",
       "3                  0.0                     0.0                  0.0   \n",
       "4                  0.0                     0.0                  0.0   \n",
       "\n",
       "  Count_Mortgage Loan  Count_Student Loan  Count_Debt Consolidation Loan  \\\n",
       "0                   0                   0                              0   \n",
       "1                   0                   0                              0   \n",
       "2                   0                   0                              0   \n",
       "3                   0                   0                              0   \n",
       "4                   0                   0                              0   \n",
       "\n",
       "   Count_Payday Loan  \n",
       "0                  0  \n",
       "1                  0  \n",
       "2                  0  \n",
       "3                  0  \n",
       "4                  0  \n",
       "\n",
       "[5 rows x 35 columns]"
      ]
     },
     "execution_count": 2,
     "metadata": {},
     "output_type": "execute_result"
    }
   ],
   "source": [
    "# Load the dataset\n",
    "file_path = '/kaggle/input/dataset-1/credit_scores.csv'  # Adjust the path as necessary\n",
    "df = pd.read_csv(file_path)\n",
    "\n",
    "# Display the first few rows\n",
    "df.head()\n"
   ]
  },
  {
   "cell_type": "code",
   "execution_count": 3,
   "id": "fe006b40",
   "metadata": {
    "execution": {
     "iopub.execute_input": "2024-06-07T21:35:18.610829Z",
     "iopub.status.busy": "2024-06-07T21:35:18.610154Z",
     "iopub.status.idle": "2024-06-07T21:35:18.621121Z",
     "shell.execute_reply": "2024-06-07T21:35:18.620309Z"
    },
    "papermill": {
     "duration": 0.017986,
     "end_time": "2024-06-07T21:35:18.623033",
     "exception": false,
     "start_time": "2024-06-07T21:35:18.605047",
     "status": "completed"
    },
    "tags": []
   },
   "outputs": [],
   "source": [
    "# Drop specified columns\n",
    "df.drop(columns=[\"Name\", \"SSN\", \"ID\", \"Customer_ID\"], inplace=True)\n",
    "\n",
    "# Define target variable\n",
    "target = 'Credit_Score'\n",
    "X = df.drop(columns=[target])\n",
    "y = df[target]\n"
   ]
  },
  {
   "cell_type": "code",
   "execution_count": 4,
   "id": "6349be62",
   "metadata": {
    "execution": {
     "iopub.execute_input": "2024-06-07T21:35:18.632101Z",
     "iopub.status.busy": "2024-06-07T21:35:18.631522Z",
     "iopub.status.idle": "2024-06-07T21:35:18.650070Z",
     "shell.execute_reply": "2024-06-07T21:35:18.649379Z"
    },
    "papermill": {
     "duration": 0.025133,
     "end_time": "2024-06-07T21:35:18.651927",
     "exception": false,
     "start_time": "2024-06-07T21:35:18.626794",
     "status": "completed"
    },
    "tags": []
   },
   "outputs": [],
   "source": [
    "# Split the dataset\n",
    "X_train, X_test, y_train, y_test = train_test_split(X, y, test_size=0.2, random_state=1)\n"
   ]
  },
  {
   "cell_type": "code",
   "execution_count": 5,
   "id": "b8b2f337",
   "metadata": {
    "execution": {
     "iopub.execute_input": "2024-06-07T21:35:18.660754Z",
     "iopub.status.busy": "2024-06-07T21:35:18.660068Z",
     "iopub.status.idle": "2024-06-07T21:35:18.916018Z",
     "shell.execute_reply": "2024-06-07T21:35:18.914749Z"
    },
    "papermill": {
     "duration": 0.263149,
     "end_time": "2024-06-07T21:35:18.918853",
     "exception": false,
     "start_time": "2024-06-07T21:35:18.655704",
     "status": "completed"
    },
    "tags": []
   },
   "outputs": [],
   "source": [
    "# Select numerical and categorical columns\n",
    "num_cols = X.select_dtypes(include=['int64', 'float64']).columns\n",
    "cat_cols = X.select_dtypes(include=['object']).columns\n",
    "\n",
    "# Define numerical transformer\n",
    "num_transformer = Pipeline(steps=[\n",
    "    ('imputer', SimpleImputer(strategy='mean')),\n",
    "    ('scaler', StandardScaler())\n",
    "])\n",
    "\n",
    "# Define categorical transformer\n",
    "cat_transformer = Pipeline(steps=[\n",
    "    ('imputer', SimpleImputer(strategy='most_frequent')),\n",
    "    ('encoder', OneHotEncoder(handle_unknown='ignore'))\n",
    "])\n",
    "\n",
    "# Combine transformers\n",
    "preprocessor = ColumnTransformer(\n",
    "    transformers=[\n",
    "        ('num', num_transformer, num_cols),\n",
    "        ('cat', cat_transformer, cat_cols)\n",
    "    ])\n",
    "\n",
    "# Apply preprocessing\n",
    "X_train = preprocessor.fit_transform(X_train)\n",
    "X_test = preprocessor.transform(X_test)\n"
   ]
  },
  {
   "cell_type": "code",
   "execution_count": 6,
   "id": "f632cb92",
   "metadata": {
    "execution": {
     "iopub.execute_input": "2024-06-07T21:35:18.929040Z",
     "iopub.status.busy": "2024-06-07T21:35:18.928723Z",
     "iopub.status.idle": "2024-06-07T21:35:18.988826Z",
     "shell.execute_reply": "2024-06-07T21:35:18.987501Z"
    },
    "papermill": {
     "duration": 0.067799,
     "end_time": "2024-06-07T21:35:18.991176",
     "exception": false,
     "start_time": "2024-06-07T21:35:18.923377",
     "status": "completed"
    },
    "tags": []
   },
   "outputs": [
    {
     "name": "stdout",
     "output_type": "stream",
     "text": [
      "Processed sample data shapes - X_train_sample: (2672, 59), X_test_sample: (668, 59)\n"
     ]
    }
   ],
   "source": [
    "# Sample a portion of the dataset\n",
    "sample_frac = 0.1  \n",
    "df_sample = df.sample(frac=sample_frac, random_state=1)\n",
    "\n",
    "# Define target and features on the sampled data\n",
    "X_sample = df_sample.drop(columns=[target])\n",
    "y_sample = df_sample[target]\n",
    "\n",
    "# Split the sampled data\n",
    "X_train_sample, X_test_sample, y_train_sample, y_test_sample = train_test_split(X_sample, y_sample, test_size=0.2, random_state=1)\n",
    "\n",
    "# Select numerical and categorical columns\n",
    "num_cols = X_sample.select_dtypes(include=['int64', 'float64']).columns\n",
    "cat_cols = X_sample.select_dtypes(include=['object']).columns\n",
    "\n",
    "# Define numerical transformer\n",
    "num_transformer = Pipeline(steps=[\n",
    "    ('imputer', SimpleImputer(strategy='mean')),\n",
    "    ('scaler', StandardScaler())\n",
    "])\n",
    "\n",
    "# Define categorical transformer\n",
    "cat_transformer = Pipeline(steps=[\n",
    "    ('imputer', SimpleImputer(strategy='most_frequent')),\n",
    "    ('encoder', OneHotEncoder(handle_unknown='ignore'))\n",
    "])\n",
    "\n",
    "# Combine transformers\n",
    "preprocessor = ColumnTransformer(\n",
    "    transformers=[\n",
    "        ('num', num_transformer, num_cols),\n",
    "        ('cat', cat_transformer, cat_cols)\n",
    "    ])\n",
    "\n",
    "# Apply preprocessing on the sampled data\n",
    "X_train_sample = preprocessor.fit_transform(X_train_sample)\n",
    "X_test_sample = preprocessor.transform(X_test_sample)\n",
    "\n",
    "# Print the shape of the processed sample data\n",
    "print(f\"Processed sample data shapes - X_train_sample: {X_train_sample.shape}, X_test_sample: {X_test_sample.shape}\")\n"
   ]
  },
  {
   "cell_type": "code",
   "execution_count": 7,
   "id": "b216636c",
   "metadata": {
    "execution": {
     "iopub.execute_input": "2024-06-07T21:35:19.001293Z",
     "iopub.status.busy": "2024-06-07T21:35:19.000969Z",
     "iopub.status.idle": "2024-06-07T21:36:12.796777Z",
     "shell.execute_reply": "2024-06-07T21:36:12.795830Z"
    },
    "papermill": {
     "duration": 53.806735,
     "end_time": "2024-06-07T21:36:12.802282",
     "exception": false,
     "start_time": "2024-06-07T21:35:18.995547",
     "status": "completed"
    },
    "tags": []
   },
   "outputs": [
    {
     "name": "stdout",
     "output_type": "stream",
     "text": [
      "Best hyperparameters: {'C': 10, 'kernel': 'rbf'}\n"
     ]
    }
   ],
   "source": [
    "# Define the model\n",
    "svm = SVC()\n",
    "\n",
    "# Define hyperparameters\n",
    "param_grid = {\n",
    "    'kernel': ['rbf', 'linear'],\n",
    "    'C': [0.01, 10, 20]\n",
    "}\n",
    "\n",
    "# Use GridSearchCV to find the best hyperparameters\n",
    "grid_search = GridSearchCV(svm, param_grid, cv=3) \n",
    "grid_search.fit(X_train_sample, y_train_sample)\n",
    "\n",
    "# Get the best model\n",
    "best_model = grid_search.best_estimator_\n",
    "\n",
    "# Report the best hyperparameters\n",
    "print(f\"Best hyperparameters: {grid_search.best_params_}\")\n"
   ]
  },
  {
   "cell_type": "code",
   "execution_count": 8,
   "id": "219eb58f",
   "metadata": {
    "execution": {
     "iopub.execute_input": "2024-06-07T21:36:12.811400Z",
     "iopub.status.busy": "2024-06-07T21:36:12.810886Z",
     "iopub.status.idle": "2024-06-07T21:36:12.971036Z",
     "shell.execute_reply": "2024-06-07T21:36:12.970001Z"
    },
    "papermill": {
     "duration": 0.167011,
     "end_time": "2024-06-07T21:36:12.973232",
     "exception": false,
     "start_time": "2024-06-07T21:36:12.806221",
     "status": "completed"
    },
    "tags": []
   },
   "outputs": [
    {
     "name": "stdout",
     "output_type": "stream",
     "text": [
      "Test Accuracy on Sampled Data: 0.61\n"
     ]
    }
   ],
   "source": [
    "# Predict on the test set\n",
    "y_pred_sample = best_model.predict(X_test_sample)\n",
    "\n",
    "# Evaluate the accuracy\n",
    "accuracy_sample = accuracy_score(y_test_sample, y_pred_sample)\n",
    "print(f\"Test Accuracy on Sampled Data: {accuracy_sample:.2f}\")\n"
   ]
  },
  {
   "cell_type": "code",
   "execution_count": 9,
   "id": "fb813cbc",
   "metadata": {
    "execution": {
     "iopub.execute_input": "2024-06-07T21:36:12.983234Z",
     "iopub.status.busy": "2024-06-07T21:36:12.982726Z",
     "iopub.status.idle": "2024-06-07T21:40:24.214883Z",
     "shell.execute_reply": "2024-06-07T21:40:24.213951Z"
    },
    "papermill": {
     "duration": 251.243563,
     "end_time": "2024-06-07T21:40:24.221160",
     "exception": false,
     "start_time": "2024-06-07T21:36:12.977597",
     "status": "completed"
    },
    "tags": []
   },
   "outputs": [
    {
     "data": {
      "text/plain": [
       "['best_model.pkl']"
      ]
     },
     "execution_count": 9,
     "metadata": {},
     "output_type": "execute_result"
    }
   ],
   "source": [
    "# Retrain the model on the entire dataset\n",
    "best_model.fit(preprocessor.fit_transform(X), y)\n",
    "# Save the model\n",
    "joblib.dump(best_model, 'best_model.pkl')"
   ]
  }
 ],
 "metadata": {
  "kaggle": {
   "accelerator": "nvidiaTeslaT4",
   "dataSources": [
    {
     "datasetId": 5169277,
     "sourceId": 8632882,
     "sourceType": "datasetVersion"
    },
    {
     "datasetId": 5170987,
     "sourceId": 8635294,
     "sourceType": "datasetVersion"
    }
   ],
   "dockerImageVersionId": 30715,
   "isGpuEnabled": true,
   "isInternetEnabled": true,
   "language": "python",
   "sourceType": "notebook"
  },
  "kernelspec": {
   "display_name": "Python 3",
   "language": "python",
   "name": "python3"
  },
  "language_info": {
   "codemirror_mode": {
    "name": "ipython",
    "version": 3
   },
   "file_extension": ".py",
   "mimetype": "text/x-python",
   "name": "python",
   "nbconvert_exporter": "python",
   "pygments_lexer": "ipython3",
   "version": "3.10.13"
  },
  "papermill": {
   "default_parameters": {},
   "duration": 311.721227,
   "end_time": "2024-06-07T21:40:24.643960",
   "environment_variables": {},
   "exception": null,
   "input_path": "__notebook__.ipynb",
   "output_path": "__notebook__.ipynb",
   "parameters": {},
   "start_time": "2024-06-07T21:35:12.922733",
   "version": "2.5.0"
  }
 },
 "nbformat": 4,
 "nbformat_minor": 5
}
